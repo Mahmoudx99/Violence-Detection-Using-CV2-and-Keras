{
 "cells": [
  {
   "cell_type": "code",
   "execution_count": 1,
   "metadata": {},
   "outputs": [],
   "source": [
    "def warn(*args, **kwargs):\n",
    "    pass\n",
    "import warnings\n",
    "warnings.warn = warn"
   ]
  },
  {
   "cell_type": "code",
   "execution_count": 2,
   "metadata": {},
   "outputs": [],
   "source": [
    "import numpy as np\n",
    "import os\n",
    "from time import time\n",
    "import cv2"
   ]
  },
  {
   "cell_type": "code",
   "execution_count": 3,
   "metadata": {},
   "outputs": [
    {
     "ename": "AttributeError",
     "evalue": "module 'tensorflow.compat.v2' has no attribute '__internal__'",
     "output_type": "error",
     "traceback": [
      "\u001b[1;31m---------------------------------------------------------------------------\u001b[0m",
      "\u001b[1;31mAttributeError\u001b[0m                            Traceback (most recent call last)",
      "\u001b[1;32me:\\work\\grad new\\grad\\code\\code\\Untitled-2.ipynb Cell 3'\u001b[0m in \u001b[0;36m<cell line: 1>\u001b[1;34m()\u001b[0m\n\u001b[1;32m----> <a href='vscode-notebook-cell:/e%3A/work/grad%20new/grad/code/code/Untitled-2.ipynb#ch0000002?line=0'>1</a>\u001b[0m \u001b[39mfrom\u001b[39;00m \u001b[39mkeras\u001b[39;00m\u001b[39m.\u001b[39;00m\u001b[39mutils\u001b[39;00m \u001b[39mimport\u001b[39;00m np_utils\n\u001b[0;32m      <a href='vscode-notebook-cell:/e%3A/work/grad%20new/grad/code/code/Untitled-2.ipynb#ch0000002?line=1'>2</a>\u001b[0m \u001b[39mfrom\u001b[39;00m \u001b[39mtensorflow\u001b[39;00m\u001b[39m.\u001b[39;00m\u001b[39mkeras\u001b[39;00m\u001b[39m.\u001b[39;00m\u001b[39mutils\u001b[39;00m \u001b[39mimport\u001b[39;00m Sequence\n\u001b[0;32m      <a href='vscode-notebook-cell:/e%3A/work/grad%20new/grad/code/code/Untitled-2.ipynb#ch0000002?line=3'>4</a>\u001b[0m \u001b[39mdef\u001b[39;00m \u001b[39mnormalize\u001b[39m(data):\n",
      "File \u001b[1;32m~\\anaconda3\\envs\\cv\\lib\\site-packages\\keras\\__init__.py:15\u001b[0m, in \u001b[0;36m<module>\u001b[1;34m\u001b[0m\n\u001b[0;32m     <a href='file:///c%3A/Users/Dell/anaconda3/envs/cv/lib/site-packages/keras/__init__.py?line=12'>13</a>\u001b[0m \u001b[39mfrom\u001b[39;00m \u001b[39m.\u001b[39;00m \u001b[39mimport\u001b[39;00m datasets\n\u001b[0;32m     <a href='file:///c%3A/Users/Dell/anaconda3/envs/cv/lib/site-packages/keras/__init__.py?line=13'>14</a>\u001b[0m \u001b[39mfrom\u001b[39;00m \u001b[39m.\u001b[39;00m \u001b[39mimport\u001b[39;00m engine\n\u001b[1;32m---> <a href='file:///c%3A/Users/Dell/anaconda3/envs/cv/lib/site-packages/keras/__init__.py?line=14'>15</a>\u001b[0m \u001b[39mfrom\u001b[39;00m \u001b[39m.\u001b[39;00m \u001b[39mimport\u001b[39;00m layers\n\u001b[0;32m     <a href='file:///c%3A/Users/Dell/anaconda3/envs/cv/lib/site-packages/keras/__init__.py?line=15'>16</a>\u001b[0m \u001b[39mfrom\u001b[39;00m \u001b[39m.\u001b[39;00m \u001b[39mimport\u001b[39;00m preprocessing\n\u001b[0;32m     <a href='file:///c%3A/Users/Dell/anaconda3/envs/cv/lib/site-packages/keras/__init__.py?line=16'>17</a>\u001b[0m \u001b[39mfrom\u001b[39;00m \u001b[39m.\u001b[39;00m \u001b[39mimport\u001b[39;00m wrappers\n",
      "File \u001b[1;32m~\\anaconda3\\envs\\cv\\lib\\site-packages\\keras\\layers\\__init__.py:6\u001b[0m, in \u001b[0;36m<module>\u001b[1;34m\u001b[0m\n\u001b[0;32m      <a href='file:///c%3A/Users/Dell/anaconda3/envs/cv/lib/site-packages/keras/layers/__init__.py?line=3'>4</a>\u001b[0m \u001b[39mfrom\u001b[39;00m \u001b[39m.\u001b[39;00m \u001b[39mimport\u001b[39;00m convolutional\n\u001b[0;32m      <a href='file:///c%3A/Users/Dell/anaconda3/envs/cv/lib/site-packages/keras/layers/__init__.py?line=4'>5</a>\u001b[0m \u001b[39mfrom\u001b[39;00m \u001b[39m.\u001b[39;00m \u001b[39mimport\u001b[39;00m convolutional_recurrent\n\u001b[1;32m----> <a href='file:///c%3A/Users/Dell/anaconda3/envs/cv/lib/site-packages/keras/layers/__init__.py?line=5'>6</a>\u001b[0m \u001b[39mfrom\u001b[39;00m \u001b[39m.\u001b[39;00m \u001b[39mimport\u001b[39;00m core\n\u001b[0;32m      <a href='file:///c%3A/Users/Dell/anaconda3/envs/cv/lib/site-packages/keras/layers/__init__.py?line=6'>7</a>\u001b[0m \u001b[39mfrom\u001b[39;00m \u001b[39m.\u001b[39;00m \u001b[39mimport\u001b[39;00m embeddings\n\u001b[0;32m      <a href='file:///c%3A/Users/Dell/anaconda3/envs/cv/lib/site-packages/keras/layers/__init__.py?line=7'>8</a>\u001b[0m \u001b[39mfrom\u001b[39;00m \u001b[39m.\u001b[39;00m \u001b[39mimport\u001b[39;00m experimental\n",
      "File \u001b[1;32m~\\anaconda3\\envs\\cv\\lib\\site-packages\\keras\\layers\\core\\__init__.py:19\u001b[0m, in \u001b[0;36m<module>\u001b[1;34m\u001b[0m\n\u001b[0;32m     <a href='file:///c%3A/Users/Dell/anaconda3/envs/cv/lib/site-packages/keras/layers/core/__init__.py?line=16'>17</a>\u001b[0m \u001b[39mfrom\u001b[39;00m \u001b[39mkeras\u001b[39;00m\u001b[39m.\u001b[39;00m\u001b[39mlayers\u001b[39;00m\u001b[39m.\u001b[39;00m\u001b[39mcore\u001b[39;00m\u001b[39m.\u001b[39;00m\u001b[39mactivation\u001b[39;00m \u001b[39mimport\u001b[39;00m Activation\n\u001b[0;32m     <a href='file:///c%3A/Users/Dell/anaconda3/envs/cv/lib/site-packages/keras/layers/core/__init__.py?line=17'>18</a>\u001b[0m \u001b[39mfrom\u001b[39;00m \u001b[39mkeras\u001b[39;00m\u001b[39m.\u001b[39;00m\u001b[39mlayers\u001b[39;00m\u001b[39m.\u001b[39;00m\u001b[39mcore\u001b[39;00m\u001b[39m.\u001b[39;00m\u001b[39mactivity_regularization\u001b[39;00m \u001b[39mimport\u001b[39;00m ActivityRegularization\n\u001b[1;32m---> <a href='file:///c%3A/Users/Dell/anaconda3/envs/cv/lib/site-packages/keras/layers/core/__init__.py?line=18'>19</a>\u001b[0m \u001b[39mfrom\u001b[39;00m \u001b[39mkeras\u001b[39;00m\u001b[39m.\u001b[39;00m\u001b[39mlayers\u001b[39;00m\u001b[39m.\u001b[39;00m\u001b[39mcore\u001b[39;00m\u001b[39m.\u001b[39;00m\u001b[39mdense\u001b[39;00m \u001b[39mimport\u001b[39;00m Dense\n\u001b[0;32m     <a href='file:///c%3A/Users/Dell/anaconda3/envs/cv/lib/site-packages/keras/layers/core/__init__.py?line=19'>20</a>\u001b[0m \u001b[39mfrom\u001b[39;00m \u001b[39mkeras\u001b[39;00m\u001b[39m.\u001b[39;00m\u001b[39mlayers\u001b[39;00m\u001b[39m.\u001b[39;00m\u001b[39mcore\u001b[39;00m\u001b[39m.\u001b[39;00m\u001b[39mdropout\u001b[39;00m \u001b[39mimport\u001b[39;00m Dropout\n\u001b[0;32m     <a href='file:///c%3A/Users/Dell/anaconda3/envs/cv/lib/site-packages/keras/layers/core/__init__.py?line=20'>21</a>\u001b[0m \u001b[39mfrom\u001b[39;00m \u001b[39mkeras\u001b[39;00m\u001b[39m.\u001b[39;00m\u001b[39mlayers\u001b[39;00m\u001b[39m.\u001b[39;00m\u001b[39mcore\u001b[39;00m\u001b[39m.\u001b[39;00m\u001b[39mflatten\u001b[39;00m \u001b[39mimport\u001b[39;00m Flatten\n",
      "File \u001b[1;32m~\\anaconda3\\envs\\cv\\lib\\site-packages\\keras\\layers\\core\\dense.py:21\u001b[0m, in \u001b[0;36m<module>\u001b[1;34m\u001b[0m\n\u001b[0;32m     <a href='file:///c%3A/Users/Dell/anaconda3/envs/cv/lib/site-packages/keras/layers/core/dense.py?line=18'>19</a>\u001b[0m \u001b[39mfrom\u001b[39;00m \u001b[39mkeras\u001b[39;00m \u001b[39mimport\u001b[39;00m backend\n\u001b[0;32m     <a href='file:///c%3A/Users/Dell/anaconda3/envs/cv/lib/site-packages/keras/layers/core/dense.py?line=19'>20</a>\u001b[0m \u001b[39mfrom\u001b[39;00m \u001b[39mkeras\u001b[39;00m \u001b[39mimport\u001b[39;00m constraints\n\u001b[1;32m---> <a href='file:///c%3A/Users/Dell/anaconda3/envs/cv/lib/site-packages/keras/layers/core/dense.py?line=20'>21</a>\u001b[0m \u001b[39mfrom\u001b[39;00m \u001b[39mkeras\u001b[39;00m \u001b[39mimport\u001b[39;00m initializers\n\u001b[0;32m     <a href='file:///c%3A/Users/Dell/anaconda3/envs/cv/lib/site-packages/keras/layers/core/dense.py?line=21'>22</a>\u001b[0m \u001b[39mfrom\u001b[39;00m \u001b[39mkeras\u001b[39;00m \u001b[39mimport\u001b[39;00m regularizers\n\u001b[0;32m     <a href='file:///c%3A/Users/Dell/anaconda3/envs/cv/lib/site-packages/keras/layers/core/dense.py?line=22'>23</a>\u001b[0m \u001b[39mfrom\u001b[39;00m \u001b[39mkeras\u001b[39;00m\u001b[39m.\u001b[39;00m\u001b[39mengine\u001b[39;00m\u001b[39m.\u001b[39;00m\u001b[39mbase_layer\u001b[39;00m \u001b[39mimport\u001b[39;00m Layer\n",
      "File \u001b[1;32m~\\anaconda3\\envs\\cv\\lib\\site-packages\\keras\\initializers\\__init__.py:124\u001b[0m, in \u001b[0;36m<module>\u001b[1;34m\u001b[0m\n\u001b[0;32m    <a href='file:///c%3A/Users/Dell/anaconda3/envs/cv/lib/site-packages/keras/initializers/__init__.py?line=117'>118</a>\u001b[0m   LOCAL\u001b[39m.\u001b[39mALL_OBJECTS[\u001b[39m'\u001b[39m\u001b[39mzero\u001b[39m\u001b[39m'\u001b[39m] \u001b[39m=\u001b[39m LOCAL\u001b[39m.\u001b[39mALL_OBJECTS[\u001b[39m'\u001b[39m\u001b[39mzeros\u001b[39m\u001b[39m'\u001b[39m]\n\u001b[0;32m    <a href='file:///c%3A/Users/Dell/anaconda3/envs/cv/lib/site-packages/keras/initializers/__init__.py?line=120'>121</a>\u001b[0m \u001b[39m# For backwards compatibility, we populate this file with the objects\u001b[39;00m\n\u001b[0;32m    <a href='file:///c%3A/Users/Dell/anaconda3/envs/cv/lib/site-packages/keras/initializers/__init__.py?line=121'>122</a>\u001b[0m \u001b[39m# from ALL_OBJECTS. We make no guarantees as to whether these objects will\u001b[39;00m\n\u001b[0;32m    <a href='file:///c%3A/Users/Dell/anaconda3/envs/cv/lib/site-packages/keras/initializers/__init__.py?line=122'>123</a>\u001b[0m \u001b[39m# using their correct version.\u001b[39;00m\n\u001b[1;32m--> <a href='file:///c%3A/Users/Dell/anaconda3/envs/cv/lib/site-packages/keras/initializers/__init__.py?line=123'>124</a>\u001b[0m populate_deserializable_objects()\n\u001b[0;32m    <a href='file:///c%3A/Users/Dell/anaconda3/envs/cv/lib/site-packages/keras/initializers/__init__.py?line=124'>125</a>\u001b[0m \u001b[39mglobals\u001b[39m()\u001b[39m.\u001b[39mupdate(LOCAL\u001b[39m.\u001b[39mALL_OBJECTS)\n\u001b[0;32m    <a href='file:///c%3A/Users/Dell/anaconda3/envs/cv/lib/site-packages/keras/initializers/__init__.py?line=126'>127</a>\u001b[0m \u001b[39m# Utility functions\u001b[39;00m\n",
      "File \u001b[1;32m~\\anaconda3\\envs\\cv\\lib\\site-packages\\keras\\initializers\\__init__.py:49\u001b[0m, in \u001b[0;36mpopulate_deserializable_objects\u001b[1;34m()\u001b[0m\n\u001b[0;32m     <a href='file:///c%3A/Users/Dell/anaconda3/envs/cv/lib/site-packages/keras/initializers/__init__.py?line=45'>46</a>\u001b[0m   \u001b[39mreturn\u001b[39;00m\n\u001b[0;32m     <a href='file:///c%3A/Users/Dell/anaconda3/envs/cv/lib/site-packages/keras/initializers/__init__.py?line=47'>48</a>\u001b[0m LOCAL\u001b[39m.\u001b[39mALL_OBJECTS \u001b[39m=\u001b[39m {}\n\u001b[1;32m---> <a href='file:///c%3A/Users/Dell/anaconda3/envs/cv/lib/site-packages/keras/initializers/__init__.py?line=48'>49</a>\u001b[0m LOCAL\u001b[39m.\u001b[39mGENERATED_WITH_V2 \u001b[39m=\u001b[39m tf\u001b[39m.\u001b[39;49m__internal__\u001b[39m.\u001b[39mtf2\u001b[39m.\u001b[39menabled()\n\u001b[0;32m     <a href='file:///c%3A/Users/Dell/anaconda3/envs/cv/lib/site-packages/keras/initializers/__init__.py?line=50'>51</a>\u001b[0m \u001b[39m# Compatibility aliases (need to exist in both V1 and V2).\u001b[39;00m\n\u001b[0;32m     <a href='file:///c%3A/Users/Dell/anaconda3/envs/cv/lib/site-packages/keras/initializers/__init__.py?line=51'>52</a>\u001b[0m LOCAL\u001b[39m.\u001b[39mALL_OBJECTS[\u001b[39m'\u001b[39m\u001b[39mConstantV2\u001b[39m\u001b[39m'\u001b[39m] \u001b[39m=\u001b[39m initializers_v2\u001b[39m.\u001b[39mConstant\n",
      "\u001b[1;31mAttributeError\u001b[0m: module 'tensorflow.compat.v2' has no attribute '__internal__'"
     ]
    }
   ],
   "source": [
    "from keras.utils import np_utils\n",
    "from tensorflow.keras.utils import Sequence\n",
    "   \n",
    "def normalize(data):\n",
    "    mean = np.mean(data)\n",
    "    std = np.std(data)\n",
    "    return (data-mean) / std\n",
    "\n",
    "def random_flip(video, prob):\n",
    "    s = np.random.rand()\n",
    "    if s < prob:\n",
    "        video = np.flip(m=video, axis=2)\n",
    "    return video    \n",
    "\n",
    "def uniform_sampling(video, target_frames=64):\n",
    "    # get total frames of input video and calculate sampling interval \n",
    "    len_frames = int(len(video))\n",
    "    interval = int(np.ceil(len_frames/target_frames))\n",
    "    # init empty list for sampled video and \n",
    "    sampled_video = []\n",
    "    for i in range(0,len_frames,interval):\n",
    "        sampled_video.append(video[i])     \n",
    "    # calculate numer of padded frames and fix it \n",
    "    num_pad = target_frames - len(sampled_video)\n",
    "    padding = []\n",
    "    if num_pad>0:\n",
    "        for i in range(-num_pad,0):\n",
    "            try: \n",
    "                padding.append(video[i])\n",
    "            except:\n",
    "                padding.append(video[0])\n",
    "        sampled_video += padding     \n",
    "    # get sampled video\n",
    "    return np.array(sampled_video, dtype=np.float32)\n",
    "\n",
    "def random_clip( video, target_frames=64):\n",
    "    start_point = np.random.randint(len(video)-target_frames)\n",
    "    return video[start_point:start_point+target_frames]\n",
    "\n",
    "def dynamic_crop(video):\n",
    "    # extract layer of optical flow from video\n",
    "    opt_flows = video[...,3]\n",
    "    # sum of optical flow magnitude of individual frame\n",
    "    magnitude = np.sum(opt_flows, axis=0)\n",
    "    # filter slight noise by threshold \n",
    "    thresh = np.mean(magnitude)\n",
    "    magnitude[magnitude<thresh] = 0\n",
    "    # calculate center of gravity of magnitude map and adding 0.001 to avoid empty value\n",
    "    x_pdf = np.sum(magnitude, axis=1) + 0.001\n",
    "    y_pdf = np.sum(magnitude, axis=0) + 0.001\n",
    "    # normalize PDF of x and y so that the sum of probs = 1\n",
    "    x_pdf /= np.sum(x_pdf)\n",
    "    y_pdf /= np.sum(y_pdf)\n",
    "    # randomly choose some candidates for x and y \n",
    "    x_points = np.random.choice(a=np.arange(224), size=10, replace=True, p=x_pdf)\n",
    "    y_points = np.random.choice(a=np.arange(224), size=10, replace=True, p=y_pdf)\n",
    "    # get the mean of x and y coordinates for better robustness\n",
    "    x = int(np.mean(x_points))\n",
    "    y = int(np.mean(y_points))\n",
    "    # avoid to beyond boundaries of array\n",
    "    x = max(56,min(x,167))\n",
    "    y = max(56,min(y,167))\n",
    "    # get cropped video \n",
    "    return video[:,x-56:x+56,y-56:y+56,:]  \n",
    "\n",
    "def color_jitter(video):\n",
    "    # range of s-component: 0-1\n",
    "    # range of v component: 0-255\n",
    "    s_jitter = np.random.uniform(-0.2,0.2)\n",
    "    v_jitter = np.random.uniform(-30,30)\n",
    "    for i in range(len(video)):\n",
    "        hsv = cv2.cvtColor(video[i], cv2.COLOR_RGB2HSV)\n",
    "        s = hsv[...,1] + s_jitter\n",
    "        v = hsv[...,2] + v_jitter\n",
    "        s[s<0] = 0\n",
    "        s[s>1] = 1\n",
    "        v[v<0] = 0\n",
    "        v[v>255] = 255\n",
    "        hsv[...,1] = s\n",
    "        hsv[...,2] = v\n",
    "        video[i] = cv2.cvtColor(hsv, cv2.COLOR_HSV2RGB)\n",
    "    return video\n",
    "    \n",
    "def load_data(path):\n",
    "    # load the processed .npy files which have 5 channels (1-3 for RGB, 4-5 for optical flows)\n",
    "    data = np.load(path, mmap_mode='r')\n",
    "    data = np.float32(data)\n",
    "    # sampling 64 frames uniformly from the entire video\n",
    "    data = uniform_sampling(video=data, target_frames=64)\n",
    "    # whether to utilize the data augmentation\n",
    "    data[...,:3] = color_jitter(data[...,:3])\n",
    "    data = random_flip(data, prob=0.5)\n",
    "    # normalize rgb images and optical flows, respectively\n",
    "    data[...,:3] = normalize(data[...,:3])\n",
    "    data[...,3:] = normalize(data[...,3:])\n",
    "    return data\n"
   ]
  },
  {
   "cell_type": "code",
   "execution_count": 4,
   "metadata": {},
   "outputs": [],
   "source": [
    "# extract the rgb images \n",
    "def get_rgb(input_x):\n",
    "    rgb = input_x[...,:3]\n",
    "    return rgb\n",
    "\n",
    "# extract the optical flows\n",
    "def get_opt(input_x):\n",
    "    opt= input_x[...,3:5]\n",
    "    return opt"
   ]
  },
  {
   "cell_type": "code",
   "execution_count": 5,
   "metadata": {},
   "outputs": [],
   "source": [
    "from keras.models import load_model\n",
    "from tensorflow.keras.optimizers import SGD\n",
    "\n",
    "sgd = SGD(lr=0.01, decay=1e-6, momentum=0.9, nesterov=True)\n",
    "\n",
    "model = load_model('E:\\dataset rwf-2000\\RWF2000-Video-Database-for-Violence-Detection-master\\RWF2000-Video-Database-for-Violence-Detection-master\\Models\\keras_model.h5', compile = False)\n"
   ]
  },
  {
   "cell_type": "code",
   "execution_count": 6,
   "metadata": {},
   "outputs": [
    {
     "name": "stdout",
     "output_type": "stream",
     "text": [
      "Model: \"model_1\"\n",
      "__________________________________________________________________________________________________\n",
      "Layer (type)                    Output Shape         Param #     Connected to                     \n",
      "==================================================================================================\n",
      "input_1 (InputLayer)            [(None, 64, 224, 224 0                                            \n",
      "__________________________________________________________________________________________________\n",
      "lambda_1 (Lambda)               (None, 64, 224, 224, 0           input_1[0][0]                    \n",
      "__________________________________________________________________________________________________\n",
      "lambda_2 (Lambda)               (None, 64, 224, 224, 0           input_1[0][0]                    \n",
      "__________________________________________________________________________________________________\n",
      "conv3d_1 (Conv3D)               (None, 64, 224, 224, 448         lambda_1[0][0]                   \n",
      "__________________________________________________________________________________________________\n",
      "conv3d_9 (Conv3D)               (None, 64, 224, 224, 304         lambda_2[0][0]                   \n",
      "__________________________________________________________________________________________________\n",
      "conv3d_2 (Conv3D)               (None, 64, 224, 224, 784         conv3d_1[0][0]                   \n",
      "__________________________________________________________________________________________________\n",
      "conv3d_10 (Conv3D)              (None, 64, 224, 224, 784         conv3d_9[0][0]                   \n",
      "__________________________________________________________________________________________________\n",
      "max_pooling3d_1 (MaxPooling3D)  (None, 64, 112, 112, 0           conv3d_2[0][0]                   \n",
      "__________________________________________________________________________________________________\n",
      "max_pooling3d_5 (MaxPooling3D)  (None, 64, 112, 112, 0           conv3d_10[0][0]                  \n",
      "__________________________________________________________________________________________________\n",
      "conv3d_3 (Conv3D)               (None, 64, 112, 112, 2320        max_pooling3d_1[0][0]            \n",
      "__________________________________________________________________________________________________\n",
      "conv3d_11 (Conv3D)              (None, 64, 112, 112, 2320        max_pooling3d_5[0][0]            \n",
      "__________________________________________________________________________________________________\n",
      "conv3d_4 (Conv3D)               (None, 64, 112, 112, 784         conv3d_3[0][0]                   \n",
      "__________________________________________________________________________________________________\n",
      "conv3d_12 (Conv3D)              (None, 64, 112, 112, 784         conv3d_11[0][0]                  \n",
      "__________________________________________________________________________________________________\n",
      "max_pooling3d_2 (MaxPooling3D)  (None, 64, 56, 56, 1 0           conv3d_4[0][0]                   \n",
      "__________________________________________________________________________________________________\n",
      "max_pooling3d_6 (MaxPooling3D)  (None, 64, 56, 56, 1 0           conv3d_12[0][0]                  \n",
      "__________________________________________________________________________________________________\n",
      "conv3d_5 (Conv3D)               (None, 64, 56, 56, 3 4640        max_pooling3d_2[0][0]            \n",
      "__________________________________________________________________________________________________\n",
      "conv3d_13 (Conv3D)              (None, 64, 56, 56, 3 4640        max_pooling3d_6[0][0]            \n",
      "__________________________________________________________________________________________________\n",
      "conv3d_6 (Conv3D)               (None, 64, 56, 56, 3 3104        conv3d_5[0][0]                   \n",
      "__________________________________________________________________________________________________\n",
      "conv3d_14 (Conv3D)              (None, 64, 56, 56, 3 3104        conv3d_13[0][0]                  \n",
      "__________________________________________________________________________________________________\n",
      "max_pooling3d_3 (MaxPooling3D)  (None, 64, 28, 28, 3 0           conv3d_6[0][0]                   \n",
      "__________________________________________________________________________________________________\n",
      "max_pooling3d_7 (MaxPooling3D)  (None, 64, 28, 28, 3 0           conv3d_14[0][0]                  \n",
      "__________________________________________________________________________________________________\n",
      "conv3d_7 (Conv3D)               (None, 64, 28, 28, 3 9248        max_pooling3d_3[0][0]            \n",
      "__________________________________________________________________________________________________\n",
      "conv3d_15 (Conv3D)              (None, 64, 28, 28, 3 9248        max_pooling3d_7[0][0]            \n",
      "__________________________________________________________________________________________________\n",
      "conv3d_8 (Conv3D)               (None, 64, 28, 28, 3 3104        conv3d_7[0][0]                   \n",
      "__________________________________________________________________________________________________\n",
      "conv3d_16 (Conv3D)              (None, 64, 28, 28, 3 3104        conv3d_15[0][0]                  \n",
      "__________________________________________________________________________________________________\n",
      "max_pooling3d_4 (MaxPooling3D)  (None, 64, 14, 14, 3 0           conv3d_8[0][0]                   \n",
      "__________________________________________________________________________________________________\n",
      "max_pooling3d_8 (MaxPooling3D)  (None, 64, 14, 14, 3 0           conv3d_16[0][0]                  \n",
      "__________________________________________________________________________________________________\n",
      "multiply_1 (Multiply)           (None, 64, 14, 14, 3 0           max_pooling3d_4[0][0]            \n",
      "                                                                 max_pooling3d_8[0][0]            \n",
      "__________________________________________________________________________________________________\n",
      "max_pooling3d_9 (MaxPooling3D)  (None, 8, 14, 14, 32 0           multiply_1[0][0]                 \n",
      "__________________________________________________________________________________________________\n",
      "conv3d_17 (Conv3D)              (None, 8, 14, 14, 64 18496       max_pooling3d_9[0][0]            \n",
      "__________________________________________________________________________________________________\n",
      "conv3d_18 (Conv3D)              (None, 8, 14, 14, 64 12352       conv3d_17[0][0]                  \n",
      "__________________________________________________________________________________________________\n",
      "max_pooling3d_10 (MaxPooling3D) (None, 4, 7, 7, 64)  0           conv3d_18[0][0]                  \n",
      "__________________________________________________________________________________________________\n",
      "conv3d_19 (Conv3D)              (None, 4, 7, 7, 64)  36928       max_pooling3d_10[0][0]           \n",
      "__________________________________________________________________________________________________\n",
      "conv3d_20 (Conv3D)              (None, 4, 7, 7, 64)  12352       conv3d_19[0][0]                  \n",
      "__________________________________________________________________________________________________\n",
      "max_pooling3d_11 (MaxPooling3D) (None, 2, 3, 3, 64)  0           conv3d_20[0][0]                  \n",
      "__________________________________________________________________________________________________\n",
      "conv3d_21 (Conv3D)              (None, 2, 3, 3, 128) 73856       max_pooling3d_11[0][0]           \n",
      "__________________________________________________________________________________________________\n",
      "conv3d_22 (Conv3D)              (None, 2, 3, 3, 128) 49280       conv3d_21[0][0]                  \n",
      "__________________________________________________________________________________________________\n",
      "max_pooling3d_12 (MaxPooling3D) (None, 1, 1, 1, 128) 0           conv3d_22[0][0]                  \n",
      "__________________________________________________________________________________________________\n",
      "flatten_1 (Flatten)             (None, 128)          0           max_pooling3d_12[0][0]           \n",
      "__________________________________________________________________________________________________\n",
      "dense_1 (Dense)                 (None, 128)          16512       flatten_1[0][0]                  \n",
      "__________________________________________________________________________________________________\n",
      "dropout_1 (Dropout)             (None, 128)          0           dense_1[0][0]                    \n",
      "__________________________________________________________________________________________________\n",
      "dense_2 (Dense)                 (None, 32)           4128        dropout_1[0][0]                  \n",
      "__________________________________________________________________________________________________\n",
      "dense_3 (Dense)                 (None, 2)            66          dense_2[0][0]                    \n",
      "==================================================================================================\n",
      "Total params: 272,690\n",
      "Trainable params: 272,690\n",
      "Non-trainable params: 0\n",
      "__________________________________________________________________________________________________\n"
     ]
    }
   ],
   "source": [
    "model.summary()"
   ]
  },
  {
   "cell_type": "code",
   "execution_count": 7,
   "metadata": {},
   "outputs": [],
   "source": [
    "from keras.models import Sequential, Input, Model\n",
    "from keras.layers import Dense, Flatten, Conv3D, MaxPooling3D, Dropout, BatchNormalization, Activation, LeakyReLU, Add, Multiply\n",
    "from keras.regularizers import l2\n",
    "from keras.layers.core import Lambda\n",
    "from keras.layers.core import Lambda"
   ]
  },
  {
   "cell_type": "code",
   "execution_count": 11,
   "metadata": {},
   "outputs": [],
   "source": [
    "path = 'E:\\dataset rwf-2000\\RWF2000-Video-Database-for-Violence-Detection-master\\RWF2000-Video-Database-for-Violence-Detection-master\\\\npy\\Fight\\\\0Ow4cotKOuw_4.npy'\n",
    "\n",
    "Xinput = load_data(path)\n"
   ]
  },
  {
   "cell_type": "code",
   "execution_count": 15,
   "metadata": {},
   "outputs": [
    {
     "data": {
      "text/plain": [
       "(64, 224, 224, 5)"
      ]
     },
     "execution_count": 15,
     "metadata": {},
     "output_type": "execute_result"
    }
   ],
   "source": [
    "Xinput.shape"
   ]
  },
  {
   "cell_type": "code",
   "execution_count": null,
   "metadata": {},
   "outputs": [],
   "source": []
  },
  {
   "cell_type": "code",
   "execution_count": 13,
   "metadata": {},
   "outputs": [
    {
     "ename": "ValueError",
     "evalue": "in user code:\n\n    C:\\Users\\mahmoud\\anaconda3\\envs\\deep_learning\\lib\\site-packages\\keras\\engine\\training.py:1586 predict_function  *\n        return step_function(self, iterator)\n    C:\\Users\\mahmoud\\anaconda3\\envs\\deep_learning\\lib\\site-packages\\keras\\engine\\training.py:1576 step_function  **\n        outputs = model.distribute_strategy.run(run_step, args=(data,))\n    C:\\Users\\mahmoud\\anaconda3\\envs\\deep_learning\\lib\\site-packages\\tensorflow\\python\\distribute\\distribute_lib.py:1286 run\n        return self._extended.call_for_each_replica(fn, args=args, kwargs=kwargs)\n    C:\\Users\\mahmoud\\anaconda3\\envs\\deep_learning\\lib\\site-packages\\tensorflow\\python\\distribute\\distribute_lib.py:2849 call_for_each_replica\n        return self._call_for_each_replica(fn, args, kwargs)\n    C:\\Users\\mahmoud\\anaconda3\\envs\\deep_learning\\lib\\site-packages\\tensorflow\\python\\distribute\\distribute_lib.py:3632 _call_for_each_replica\n        return fn(*args, **kwargs)\n    C:\\Users\\mahmoud\\anaconda3\\envs\\deep_learning\\lib\\site-packages\\keras\\engine\\training.py:1569 run_step  **\n        outputs = model.predict_step(data)\n    C:\\Users\\mahmoud\\anaconda3\\envs\\deep_learning\\lib\\site-packages\\keras\\engine\\training.py:1537 predict_step\n        return self(x, training=False)\n    C:\\Users\\mahmoud\\anaconda3\\envs\\deep_learning\\lib\\site-packages\\keras\\engine\\base_layer.py:1020 __call__\n        input_spec.assert_input_compatibility(self.input_spec, inputs, self.name)\n    C:\\Users\\mahmoud\\anaconda3\\envs\\deep_learning\\lib\\site-packages\\keras\\engine\\input_spec.py:269 assert_input_compatibility\n        ', found shape=' + display_shape(x.shape))\n\n    ValueError: Input 0 is incompatible with layer model_1: expected shape=(None, 64, 224, 224, 5), found shape=(32, 224, 224, 5)\n",
     "output_type": "error",
     "traceback": [
      "\u001b[1;31m---------------------------------------------------------------------------\u001b[0m",
      "\u001b[1;31mValueError\u001b[0m                                Traceback (most recent call last)",
      "\u001b[1;32m~\\AppData\\Local\\Temp/ipykernel_14632/2858220106.py\u001b[0m in \u001b[0;36m<module>\u001b[1;34m\u001b[0m\n\u001b[1;32m----> 1\u001b[1;33m \u001b[0mmodel\u001b[0m\u001b[1;33m.\u001b[0m\u001b[0mpredict\u001b[0m\u001b[1;33m(\u001b[0m\u001b[0mXinput\u001b[0m\u001b[1;33m)\u001b[0m\u001b[1;33m\u001b[0m\u001b[1;33m\u001b[0m\u001b[0m\n\u001b[0m",
      "\u001b[1;32m~\\anaconda3\\envs\\deep_learning\\lib\\site-packages\\keras\\engine\\training.py\u001b[0m in \u001b[0;36mpredict\u001b[1;34m(self, x, batch_size, verbose, steps, callbacks, max_queue_size, workers, use_multiprocessing)\u001b[0m\n\u001b[0;32m   1749\u001b[0m           \u001b[1;32mfor\u001b[0m \u001b[0mstep\u001b[0m \u001b[1;32min\u001b[0m \u001b[0mdata_handler\u001b[0m\u001b[1;33m.\u001b[0m\u001b[0msteps\u001b[0m\u001b[1;33m(\u001b[0m\u001b[1;33m)\u001b[0m\u001b[1;33m:\u001b[0m\u001b[1;33m\u001b[0m\u001b[1;33m\u001b[0m\u001b[0m\n\u001b[0;32m   1750\u001b[0m             \u001b[0mcallbacks\u001b[0m\u001b[1;33m.\u001b[0m\u001b[0mon_predict_batch_begin\u001b[0m\u001b[1;33m(\u001b[0m\u001b[0mstep\u001b[0m\u001b[1;33m)\u001b[0m\u001b[1;33m\u001b[0m\u001b[1;33m\u001b[0m\u001b[0m\n\u001b[1;32m-> 1751\u001b[1;33m             \u001b[0mtmp_batch_outputs\u001b[0m \u001b[1;33m=\u001b[0m \u001b[0mself\u001b[0m\u001b[1;33m.\u001b[0m\u001b[0mpredict_function\u001b[0m\u001b[1;33m(\u001b[0m\u001b[0miterator\u001b[0m\u001b[1;33m)\u001b[0m\u001b[1;33m\u001b[0m\u001b[1;33m\u001b[0m\u001b[0m\n\u001b[0m\u001b[0;32m   1752\u001b[0m             \u001b[1;32mif\u001b[0m \u001b[0mdata_handler\u001b[0m\u001b[1;33m.\u001b[0m\u001b[0mshould_sync\u001b[0m\u001b[1;33m:\u001b[0m\u001b[1;33m\u001b[0m\u001b[1;33m\u001b[0m\u001b[0m\n\u001b[0;32m   1753\u001b[0m               \u001b[0mcontext\u001b[0m\u001b[1;33m.\u001b[0m\u001b[0masync_wait\u001b[0m\u001b[1;33m(\u001b[0m\u001b[1;33m)\u001b[0m\u001b[1;33m\u001b[0m\u001b[1;33m\u001b[0m\u001b[0m\n",
      "\u001b[1;32m~\\anaconda3\\envs\\deep_learning\\lib\\site-packages\\tensorflow\\python\\eager\\def_function.py\u001b[0m in \u001b[0;36m__call__\u001b[1;34m(self, *args, **kwds)\u001b[0m\n\u001b[0;32m    883\u001b[0m \u001b[1;33m\u001b[0m\u001b[0m\n\u001b[0;32m    884\u001b[0m       \u001b[1;32mwith\u001b[0m \u001b[0mOptionalXlaContext\u001b[0m\u001b[1;33m(\u001b[0m\u001b[0mself\u001b[0m\u001b[1;33m.\u001b[0m\u001b[0m_jit_compile\u001b[0m\u001b[1;33m)\u001b[0m\u001b[1;33m:\u001b[0m\u001b[1;33m\u001b[0m\u001b[1;33m\u001b[0m\u001b[0m\n\u001b[1;32m--> 885\u001b[1;33m         \u001b[0mresult\u001b[0m \u001b[1;33m=\u001b[0m \u001b[0mself\u001b[0m\u001b[1;33m.\u001b[0m\u001b[0m_call\u001b[0m\u001b[1;33m(\u001b[0m\u001b[1;33m*\u001b[0m\u001b[0margs\u001b[0m\u001b[1;33m,\u001b[0m \u001b[1;33m**\u001b[0m\u001b[0mkwds\u001b[0m\u001b[1;33m)\u001b[0m\u001b[1;33m\u001b[0m\u001b[1;33m\u001b[0m\u001b[0m\n\u001b[0m\u001b[0;32m    886\u001b[0m \u001b[1;33m\u001b[0m\u001b[0m\n\u001b[0;32m    887\u001b[0m       \u001b[0mnew_tracing_count\u001b[0m \u001b[1;33m=\u001b[0m \u001b[0mself\u001b[0m\u001b[1;33m.\u001b[0m\u001b[0mexperimental_get_tracing_count\u001b[0m\u001b[1;33m(\u001b[0m\u001b[1;33m)\u001b[0m\u001b[1;33m\u001b[0m\u001b[1;33m\u001b[0m\u001b[0m\n",
      "\u001b[1;32m~\\anaconda3\\envs\\deep_learning\\lib\\site-packages\\tensorflow\\python\\eager\\def_function.py\u001b[0m in \u001b[0;36m_call\u001b[1;34m(self, *args, **kwds)\u001b[0m\n\u001b[0;32m    922\u001b[0m       \u001b[1;31m# In this case we have not created variables on the first call. So we can\u001b[0m\u001b[1;33m\u001b[0m\u001b[1;33m\u001b[0m\u001b[1;33m\u001b[0m\u001b[0m\n\u001b[0;32m    923\u001b[0m       \u001b[1;31m# run the first trace but we should fail if variables are created.\u001b[0m\u001b[1;33m\u001b[0m\u001b[1;33m\u001b[0m\u001b[1;33m\u001b[0m\u001b[0m\n\u001b[1;32m--> 924\u001b[1;33m       \u001b[0mresults\u001b[0m \u001b[1;33m=\u001b[0m \u001b[0mself\u001b[0m\u001b[1;33m.\u001b[0m\u001b[0m_stateful_fn\u001b[0m\u001b[1;33m(\u001b[0m\u001b[1;33m*\u001b[0m\u001b[0margs\u001b[0m\u001b[1;33m,\u001b[0m \u001b[1;33m**\u001b[0m\u001b[0mkwds\u001b[0m\u001b[1;33m)\u001b[0m\u001b[1;33m\u001b[0m\u001b[1;33m\u001b[0m\u001b[0m\n\u001b[0m\u001b[0;32m    925\u001b[0m       \u001b[1;32mif\u001b[0m \u001b[0mself\u001b[0m\u001b[1;33m.\u001b[0m\u001b[0m_created_variables\u001b[0m \u001b[1;32mand\u001b[0m \u001b[1;32mnot\u001b[0m \u001b[0mALLOW_DYNAMIC_VARIABLE_CREATION\u001b[0m\u001b[1;33m:\u001b[0m\u001b[1;33m\u001b[0m\u001b[1;33m\u001b[0m\u001b[0m\n\u001b[0;32m    926\u001b[0m         raise ValueError(\"Creating variables on a non-first call to a function\"\n",
      "\u001b[1;32m~\\anaconda3\\envs\\deep_learning\\lib\\site-packages\\tensorflow\\python\\eager\\function.py\u001b[0m in \u001b[0;36m__call__\u001b[1;34m(self, *args, **kwargs)\u001b[0m\n\u001b[0;32m   3036\u001b[0m     \u001b[1;32mwith\u001b[0m \u001b[0mself\u001b[0m\u001b[1;33m.\u001b[0m\u001b[0m_lock\u001b[0m\u001b[1;33m:\u001b[0m\u001b[1;33m\u001b[0m\u001b[1;33m\u001b[0m\u001b[0m\n\u001b[0;32m   3037\u001b[0m       (graph_function,\n\u001b[1;32m-> 3038\u001b[1;33m        filtered_flat_args) = self._maybe_define_function(args, kwargs)\n\u001b[0m\u001b[0;32m   3039\u001b[0m     return graph_function._call_flat(\n\u001b[0;32m   3040\u001b[0m         filtered_flat_args, captured_inputs=graph_function.captured_inputs)  # pylint: disable=protected-access\n",
      "\u001b[1;32m~\\anaconda3\\envs\\deep_learning\\lib\\site-packages\\tensorflow\\python\\eager\\function.py\u001b[0m in \u001b[0;36m_maybe_define_function\u001b[1;34m(self, args, kwargs)\u001b[0m\n\u001b[0;32m   3458\u001b[0m               call_context_key in self._function_cache.missed):\n\u001b[0;32m   3459\u001b[0m             return self._define_function_with_shape_relaxation(\n\u001b[1;32m-> 3460\u001b[1;33m                 args, kwargs, flat_args, filtered_flat_args, cache_key_context)\n\u001b[0m\u001b[0;32m   3461\u001b[0m \u001b[1;33m\u001b[0m\u001b[0m\n\u001b[0;32m   3462\u001b[0m           \u001b[0mself\u001b[0m\u001b[1;33m.\u001b[0m\u001b[0m_function_cache\u001b[0m\u001b[1;33m.\u001b[0m\u001b[0mmissed\u001b[0m\u001b[1;33m.\u001b[0m\u001b[0madd\u001b[0m\u001b[1;33m(\u001b[0m\u001b[0mcall_context_key\u001b[0m\u001b[1;33m)\u001b[0m\u001b[1;33m\u001b[0m\u001b[1;33m\u001b[0m\u001b[0m\n",
      "\u001b[1;32m~\\anaconda3\\envs\\deep_learning\\lib\\site-packages\\tensorflow\\python\\eager\\function.py\u001b[0m in \u001b[0;36m_define_function_with_shape_relaxation\u001b[1;34m(self, args, kwargs, flat_args, filtered_flat_args, cache_key_context)\u001b[0m\n\u001b[0;32m   3380\u001b[0m \u001b[1;33m\u001b[0m\u001b[0m\n\u001b[0;32m   3381\u001b[0m     graph_function = self._create_graph_function(\n\u001b[1;32m-> 3382\u001b[1;33m         args, kwargs, override_flat_arg_shapes=relaxed_arg_shapes)\n\u001b[0m\u001b[0;32m   3383\u001b[0m     \u001b[0mself\u001b[0m\u001b[1;33m.\u001b[0m\u001b[0m_function_cache\u001b[0m\u001b[1;33m.\u001b[0m\u001b[0marg_relaxed\u001b[0m\u001b[1;33m[\u001b[0m\u001b[0mrank_only_cache_key\u001b[0m\u001b[1;33m]\u001b[0m \u001b[1;33m=\u001b[0m \u001b[0mgraph_function\u001b[0m\u001b[1;33m\u001b[0m\u001b[1;33m\u001b[0m\u001b[0m\n\u001b[0;32m   3384\u001b[0m \u001b[1;33m\u001b[0m\u001b[0m\n",
      "\u001b[1;32m~\\anaconda3\\envs\\deep_learning\\lib\\site-packages\\tensorflow\\python\\eager\\function.py\u001b[0m in \u001b[0;36m_create_graph_function\u001b[1;34m(self, args, kwargs, override_flat_arg_shapes)\u001b[0m\n\u001b[0;32m   3306\u001b[0m             \u001b[0marg_names\u001b[0m\u001b[1;33m=\u001b[0m\u001b[0marg_names\u001b[0m\u001b[1;33m,\u001b[0m\u001b[1;33m\u001b[0m\u001b[1;33m\u001b[0m\u001b[0m\n\u001b[0;32m   3307\u001b[0m             \u001b[0moverride_flat_arg_shapes\u001b[0m\u001b[1;33m=\u001b[0m\u001b[0moverride_flat_arg_shapes\u001b[0m\u001b[1;33m,\u001b[0m\u001b[1;33m\u001b[0m\u001b[1;33m\u001b[0m\u001b[0m\n\u001b[1;32m-> 3308\u001b[1;33m             capture_by_value=self._capture_by_value),\n\u001b[0m\u001b[0;32m   3309\u001b[0m         \u001b[0mself\u001b[0m\u001b[1;33m.\u001b[0m\u001b[0m_function_attributes\u001b[0m\u001b[1;33m,\u001b[0m\u001b[1;33m\u001b[0m\u001b[1;33m\u001b[0m\u001b[0m\n\u001b[0;32m   3310\u001b[0m         \u001b[0mfunction_spec\u001b[0m\u001b[1;33m=\u001b[0m\u001b[0mself\u001b[0m\u001b[1;33m.\u001b[0m\u001b[0mfunction_spec\u001b[0m\u001b[1;33m,\u001b[0m\u001b[1;33m\u001b[0m\u001b[1;33m\u001b[0m\u001b[0m\n",
      "\u001b[1;32m~\\anaconda3\\envs\\deep_learning\\lib\\site-packages\\tensorflow\\python\\framework\\func_graph.py\u001b[0m in \u001b[0;36mfunc_graph_from_py_func\u001b[1;34m(name, python_func, args, kwargs, signature, func_graph, autograph, autograph_options, add_control_dependencies, arg_names, op_return_value, collections, capture_by_value, override_flat_arg_shapes, acd_record_initial_resource_uses)\u001b[0m\n\u001b[0;32m   1005\u001b[0m         \u001b[0m_\u001b[0m\u001b[1;33m,\u001b[0m \u001b[0moriginal_func\u001b[0m \u001b[1;33m=\u001b[0m \u001b[0mtf_decorator\u001b[0m\u001b[1;33m.\u001b[0m\u001b[0munwrap\u001b[0m\u001b[1;33m(\u001b[0m\u001b[0mpython_func\u001b[0m\u001b[1;33m)\u001b[0m\u001b[1;33m\u001b[0m\u001b[1;33m\u001b[0m\u001b[0m\n\u001b[0;32m   1006\u001b[0m \u001b[1;33m\u001b[0m\u001b[0m\n\u001b[1;32m-> 1007\u001b[1;33m       \u001b[0mfunc_outputs\u001b[0m \u001b[1;33m=\u001b[0m \u001b[0mpython_func\u001b[0m\u001b[1;33m(\u001b[0m\u001b[1;33m*\u001b[0m\u001b[0mfunc_args\u001b[0m\u001b[1;33m,\u001b[0m \u001b[1;33m**\u001b[0m\u001b[0mfunc_kwargs\u001b[0m\u001b[1;33m)\u001b[0m\u001b[1;33m\u001b[0m\u001b[1;33m\u001b[0m\u001b[0m\n\u001b[0m\u001b[0;32m   1008\u001b[0m \u001b[1;33m\u001b[0m\u001b[0m\n\u001b[0;32m   1009\u001b[0m       \u001b[1;31m# invariant: `func_outputs` contains only Tensors, CompositeTensors,\u001b[0m\u001b[1;33m\u001b[0m\u001b[1;33m\u001b[0m\u001b[1;33m\u001b[0m\u001b[0m\n",
      "\u001b[1;32m~\\anaconda3\\envs\\deep_learning\\lib\\site-packages\\tensorflow\\python\\eager\\def_function.py\u001b[0m in \u001b[0;36mwrapped_fn\u001b[1;34m(*args, **kwds)\u001b[0m\n\u001b[0;32m    666\u001b[0m         \u001b[1;31m# the function a weak reference to itself to avoid a reference cycle.\u001b[0m\u001b[1;33m\u001b[0m\u001b[1;33m\u001b[0m\u001b[1;33m\u001b[0m\u001b[0m\n\u001b[0;32m    667\u001b[0m         \u001b[1;32mwith\u001b[0m \u001b[0mOptionalXlaContext\u001b[0m\u001b[1;33m(\u001b[0m\u001b[0mcompile_with_xla\u001b[0m\u001b[1;33m)\u001b[0m\u001b[1;33m:\u001b[0m\u001b[1;33m\u001b[0m\u001b[1;33m\u001b[0m\u001b[0m\n\u001b[1;32m--> 668\u001b[1;33m           \u001b[0mout\u001b[0m \u001b[1;33m=\u001b[0m \u001b[0mweak_wrapped_fn\u001b[0m\u001b[1;33m(\u001b[0m\u001b[1;33m)\u001b[0m\u001b[1;33m.\u001b[0m\u001b[0m__wrapped__\u001b[0m\u001b[1;33m(\u001b[0m\u001b[1;33m*\u001b[0m\u001b[0margs\u001b[0m\u001b[1;33m,\u001b[0m \u001b[1;33m**\u001b[0m\u001b[0mkwds\u001b[0m\u001b[1;33m)\u001b[0m\u001b[1;33m\u001b[0m\u001b[1;33m\u001b[0m\u001b[0m\n\u001b[0m\u001b[0;32m    669\u001b[0m         \u001b[1;32mreturn\u001b[0m \u001b[0mout\u001b[0m\u001b[1;33m\u001b[0m\u001b[1;33m\u001b[0m\u001b[0m\n\u001b[0;32m    670\u001b[0m \u001b[1;33m\u001b[0m\u001b[0m\n",
      "\u001b[1;32m~\\anaconda3\\envs\\deep_learning\\lib\\site-packages\\tensorflow\\python\\framework\\func_graph.py\u001b[0m in \u001b[0;36mwrapper\u001b[1;34m(*args, **kwargs)\u001b[0m\n\u001b[0;32m    992\u001b[0m           \u001b[1;32mexcept\u001b[0m \u001b[0mException\u001b[0m \u001b[1;32mas\u001b[0m \u001b[0me\u001b[0m\u001b[1;33m:\u001b[0m  \u001b[1;31m# pylint:disable=broad-except\u001b[0m\u001b[1;33m\u001b[0m\u001b[1;33m\u001b[0m\u001b[0m\n\u001b[0;32m    993\u001b[0m             \u001b[1;32mif\u001b[0m \u001b[0mhasattr\u001b[0m\u001b[1;33m(\u001b[0m\u001b[0me\u001b[0m\u001b[1;33m,\u001b[0m \u001b[1;34m\"ag_error_metadata\"\u001b[0m\u001b[1;33m)\u001b[0m\u001b[1;33m:\u001b[0m\u001b[1;33m\u001b[0m\u001b[1;33m\u001b[0m\u001b[0m\n\u001b[1;32m--> 994\u001b[1;33m               \u001b[1;32mraise\u001b[0m \u001b[0me\u001b[0m\u001b[1;33m.\u001b[0m\u001b[0mag_error_metadata\u001b[0m\u001b[1;33m.\u001b[0m\u001b[0mto_exception\u001b[0m\u001b[1;33m(\u001b[0m\u001b[0me\u001b[0m\u001b[1;33m)\u001b[0m\u001b[1;33m\u001b[0m\u001b[1;33m\u001b[0m\u001b[0m\n\u001b[0m\u001b[0;32m    995\u001b[0m             \u001b[1;32melse\u001b[0m\u001b[1;33m:\u001b[0m\u001b[1;33m\u001b[0m\u001b[1;33m\u001b[0m\u001b[0m\n\u001b[0;32m    996\u001b[0m               \u001b[1;32mraise\u001b[0m\u001b[1;33m\u001b[0m\u001b[1;33m\u001b[0m\u001b[0m\n",
      "\u001b[1;31mValueError\u001b[0m: in user code:\n\n    C:\\Users\\mahmoud\\anaconda3\\envs\\deep_learning\\lib\\site-packages\\keras\\engine\\training.py:1586 predict_function  *\n        return step_function(self, iterator)\n    C:\\Users\\mahmoud\\anaconda3\\envs\\deep_learning\\lib\\site-packages\\keras\\engine\\training.py:1576 step_function  **\n        outputs = model.distribute_strategy.run(run_step, args=(data,))\n    C:\\Users\\mahmoud\\anaconda3\\envs\\deep_learning\\lib\\site-packages\\tensorflow\\python\\distribute\\distribute_lib.py:1286 run\n        return self._extended.call_for_each_replica(fn, args=args, kwargs=kwargs)\n    C:\\Users\\mahmoud\\anaconda3\\envs\\deep_learning\\lib\\site-packages\\tensorflow\\python\\distribute\\distribute_lib.py:2849 call_for_each_replica\n        return self._call_for_each_replica(fn, args, kwargs)\n    C:\\Users\\mahmoud\\anaconda3\\envs\\deep_learning\\lib\\site-packages\\tensorflow\\python\\distribute\\distribute_lib.py:3632 _call_for_each_replica\n        return fn(*args, **kwargs)\n    C:\\Users\\mahmoud\\anaconda3\\envs\\deep_learning\\lib\\site-packages\\keras\\engine\\training.py:1569 run_step  **\n        outputs = model.predict_step(data)\n    C:\\Users\\mahmoud\\anaconda3\\envs\\deep_learning\\lib\\site-packages\\keras\\engine\\training.py:1537 predict_step\n        return self(x, training=False)\n    C:\\Users\\mahmoud\\anaconda3\\envs\\deep_learning\\lib\\site-packages\\keras\\engine\\base_layer.py:1020 __call__\n        input_spec.assert_input_compatibility(self.input_spec, inputs, self.name)\n    C:\\Users\\mahmoud\\anaconda3\\envs\\deep_learning\\lib\\site-packages\\keras\\engine\\input_spec.py:269 assert_input_compatibility\n        ', found shape=' + display_shape(x.shape))\n\n    ValueError: Input 0 is incompatible with layer model_1: expected shape=(None, 64, 224, 224, 5), found shape=(32, 224, 224, 5)\n"
     ]
    }
   ],
   "source": [
    "model.predict(Xinput)"
   ]
  },
  {
   "cell_type": "code",
   "execution_count": null,
   "metadata": {},
   "outputs": [],
   "source": []
  }
 ],
 "metadata": {
  "interpreter": {
   "hash": "19e586cea351faa2a8ebac1b3a84cf0d6e09a3172ce1638fa88d314df080fbbf"
  },
  "kernelspec": {
   "display_name": "Python 3.7.11 64-bit ('advanced_computer_vision': conda)",
   "language": "python",
   "name": "python3"
  },
  "language_info": {
   "codemirror_mode": {
    "name": "ipython",
    "version": 3
   },
   "file_extension": ".py",
   "mimetype": "text/x-python",
   "name": "python",
   "nbconvert_exporter": "python",
   "pygments_lexer": "ipython3",
   "version": "3.8.13"
  },
  "orig_nbformat": 4
 },
 "nbformat": 4,
 "nbformat_minor": 2
}
